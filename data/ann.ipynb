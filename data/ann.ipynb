{
  "nbformat": 4,
  "nbformat_minor": 0,
  "metadata": {
    "colab": {
      "name": "ann.ipynb",
      "provenance": [],
      "collapsed_sections": [],
      "toc_visible": true
    },
    "kernelspec": {
      "name": "python3",
      "display_name": "Python 3"
    },
    "language_info": {
      "name": "python"
    }
  },
  "cells": [
    {
      "cell_type": "code",
      "metadata": {
        "id": "7yPfZlo8kYj5"
      },
      "source": [
        "import numpy as np\n",
        "import math\n",
        "from scipy.stats import norm\n",
        "import time\n",
        "import pandas as pd\n",
        "import statsmodels.api as sm\n",
        "from keras.layers import Dense, Dropout, LSTM, Embedding\n",
        "from keras.models import Sequential\n",
        "from matplotlib import pyplot as plt\n",
        "\n",
        "%matplotlib inline"
      ],
      "execution_count": 58,
      "outputs": []
    },
    {
      "cell_type": "code",
      "metadata": {
        "colab": {
          "resources": {
            "http://localhost:8080/nbextensions/google.colab/files.js": {
              "data": "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",
              "ok": true,
              "headers": [
                [
                  "content-type",
                  "application/javascript"
                ]
              ],
              "status": 200,
              "status_text": ""
            }
          },
          "base_uri": "https://localhost:8080/",
          "height": 73
        },
        "id": "GgfMfLr7kkij",
        "outputId": "bb1dcdf9-b955-4748-a7be-c790fd882484"
      },
      "source": [
        "# Transmited label data file\n",
        "from google.colab import files\n",
        "import io\n",
        "#number of receiverd particle\n",
        "uploadedy = files.upload()"
      ],
      "execution_count": 49,
      "outputs": [
        {
          "output_type": "display_data",
          "data": {
            "text/html": [
              "\n",
              "     <input type=\"file\" id=\"files-84e81d97-5c95-4a68-b67c-023c0e87e47f\" name=\"files[]\" multiple disabled\n",
              "        style=\"border:none\" />\n",
              "     <output id=\"result-84e81d97-5c95-4a68-b67c-023c0e87e47f\">\n",
              "      Upload widget is only available when the cell has been executed in the\n",
              "      current browser session. Please rerun this cell to enable.\n",
              "      </output>\n",
              "      <script src=\"/nbextensions/google.colab/files.js\"></script> "
            ],
            "text/plain": [
              "<IPython.core.display.HTML object>"
            ]
          },
          "metadata": {
            "tags": []
          }
        },
        {
          "output_type": "stream",
          "text": [
            "Saving x_y.csv to x_y (2).csv\n"
          ],
          "name": "stdout"
        }
      ]
    },
    {
      "cell_type": "code",
      "metadata": {
        "id": "uJdy_sDsklMr"
      },
      "source": [
        "data = pd.read_csv('x_y.csv')"
      ],
      "execution_count": 50,
      "outputs": []
    },
    {
      "cell_type": "code",
      "metadata": {
        "id": "Xwa9T35unvX1"
      },
      "source": [
        "X = data['X']\n",
        "Y = data[\"Y\"]"
      ],
      "execution_count": 51,
      "outputs": []
    },
    {
      "cell_type": "code",
      "metadata": {
        "colab": {
          "base_uri": "https://localhost:8080/"
        },
        "id": "4bZIX_RLnz0Q",
        "outputId": "f32b1e03-6a3d-4cbb-a6d3-0c3c8eb5a389"
      },
      "source": [
        "print(X)"
      ],
      "execution_count": 52,
      "outputs": [
        {
          "output_type": "stream",
          "text": [
            "0           0.0\n",
            "1           0.0\n",
            "2           0.0\n",
            "3           0.0\n",
            "4           1.0\n",
            "         ...   \n",
            "5495    10653.0\n",
            "5496    10527.0\n",
            "5497    10809.0\n",
            "5498    10797.0\n",
            "5499    10696.0\n",
            "Name: X, Length: 5500, dtype: float64\n"
          ],
          "name": "stdout"
        }
      ]
    },
    {
      "cell_type": "code",
      "metadata": {
        "id": "reKRDljyn91l"
      },
      "source": [
        "X = np.array(data['X'])\n",
        "X = np.reshape(X, (5500,1))\n",
        "Y = np.array(data['Y'])\n",
        "Y = np.reshape(Y, (5500,1))"
      ],
      "execution_count": 53,
      "outputs": []
    },
    {
      "cell_type": "code",
      "metadata": {
        "id": "fyWyIVyDpW9k"
      },
      "source": [
        "from keras.optimizers import Adam\n",
        "model = Sequential()\n",
        "\n",
        "model.add(Dense(5, input_dim=1, activation='tanh'))\n",
        "for i in range(8):\n",
        "  model.add(Dense(5, input_dim=5, activation='tanh'))\n",
        "model.add(Dense(1, input_dim=5, activation='sigmoid'))\n",
        "\n",
        "model.compile(loss='binary_crossentropy',optimizer=Adam(lr=0.01),metrics=['accuracy'])"
      ],
      "execution_count": 54,
      "outputs": []
    },
    {
      "cell_type": "code",
      "metadata": {
        "id": "FfLOq6VtqmC9",
        "colab": {
          "base_uri": "https://localhost:8080/"
        },
        "outputId": "d05d5cfc-d862-4423-8170-96acf2c0914c"
      },
      "source": [
        "mymodel = model.fit(X[:3000],Y[:3000],epochs=50,batch_size=10)\n",
        "scores = model.evaluate(X, Y)\n",
        "print(model.metrics_names)\n",
        "print(scores)"
      ],
      "execution_count": 55,
      "outputs": [
        {
          "output_type": "stream",
          "text": [
            "Epoch 1/50\n",
            "300/300 [==============================] - 1s 1ms/step - loss: 0.6863 - accuracy: 0.5635\n",
            "Epoch 2/50\n",
            "300/300 [==============================] - 0s 1ms/step - loss: 0.6883 - accuracy: 0.5200\n",
            "Epoch 3/50\n",
            "300/300 [==============================] - 0s 1ms/step - loss: 0.6857 - accuracy: 0.5505\n",
            "Epoch 4/50\n",
            "300/300 [==============================] - 0s 1ms/step - loss: 0.6875 - accuracy: 0.5330\n",
            "Epoch 5/50\n",
            "300/300 [==============================] - 0s 1ms/step - loss: 0.6857 - accuracy: 0.5481\n",
            "Epoch 6/50\n",
            "300/300 [==============================] - 0s 1ms/step - loss: 0.6886 - accuracy: 0.5479\n",
            "Epoch 7/50\n",
            "300/300 [==============================] - 0s 1ms/step - loss: 0.6866 - accuracy: 0.5442\n",
            "Epoch 8/50\n",
            "300/300 [==============================] - 0s 1ms/step - loss: 0.6848 - accuracy: 0.5485\n",
            "Epoch 9/50\n",
            "300/300 [==============================] - 0s 1ms/step - loss: 0.6880 - accuracy: 0.5297\n",
            "Epoch 10/50\n",
            "300/300 [==============================] - 0s 1ms/step - loss: 0.6851 - accuracy: 0.5528\n",
            "Epoch 11/50\n",
            "300/300 [==============================] - 0s 1ms/step - loss: 0.6835 - accuracy: 0.5424\n",
            "Epoch 12/50\n",
            "300/300 [==============================] - 0s 1ms/step - loss: 0.6885 - accuracy: 0.5338\n",
            "Epoch 13/50\n",
            "300/300 [==============================] - 0s 1ms/step - loss: 0.6879 - accuracy: 0.5500\n",
            "Epoch 14/50\n",
            "300/300 [==============================] - 0s 1ms/step - loss: 0.6855 - accuracy: 0.5301\n",
            "Epoch 15/50\n",
            "300/300 [==============================] - 0s 1ms/step - loss: 0.6852 - accuracy: 0.5424\n",
            "Epoch 16/50\n",
            "300/300 [==============================] - 0s 1ms/step - loss: 0.6878 - accuracy: 0.5441\n",
            "Epoch 17/50\n",
            "300/300 [==============================] - 0s 1ms/step - loss: 0.6858 - accuracy: 0.5345\n",
            "Epoch 18/50\n",
            "300/300 [==============================] - 0s 1ms/step - loss: 0.6849 - accuracy: 0.5529\n",
            "Epoch 19/50\n",
            "300/300 [==============================] - 0s 1ms/step - loss: 0.6860 - accuracy: 0.5504\n",
            "Epoch 20/50\n",
            "300/300 [==============================] - 0s 1ms/step - loss: 0.6857 - accuracy: 0.5497\n",
            "Epoch 21/50\n",
            "300/300 [==============================] - 0s 1ms/step - loss: 0.6842 - accuracy: 0.5543\n",
            "Epoch 22/50\n",
            "300/300 [==============================] - 0s 1ms/step - loss: 0.6882 - accuracy: 0.5394\n",
            "Epoch 23/50\n",
            "300/300 [==============================] - 0s 1ms/step - loss: 0.6893 - accuracy: 0.5311\n",
            "Epoch 24/50\n",
            "300/300 [==============================] - 0s 1ms/step - loss: 0.6871 - accuracy: 0.5301\n",
            "Epoch 25/50\n",
            "300/300 [==============================] - 0s 1ms/step - loss: 0.6822 - accuracy: 0.5555\n",
            "Epoch 26/50\n",
            "300/300 [==============================] - 0s 1ms/step - loss: 0.6830 - accuracy: 0.5507\n",
            "Epoch 27/50\n",
            "300/300 [==============================] - 0s 1ms/step - loss: 0.6883 - accuracy: 0.5376\n",
            "Epoch 28/50\n",
            "300/300 [==============================] - 0s 1ms/step - loss: 0.6838 - accuracy: 0.5524\n",
            "Epoch 29/50\n",
            "300/300 [==============================] - 0s 1ms/step - loss: 0.6852 - accuracy: 0.5420\n",
            "Epoch 30/50\n",
            "300/300 [==============================] - 0s 1ms/step - loss: 0.6842 - accuracy: 0.5383\n",
            "Epoch 31/50\n",
            "300/300 [==============================] - 0s 1ms/step - loss: 0.6876 - accuracy: 0.5358\n",
            "Epoch 32/50\n",
            "300/300 [==============================] - 0s 1ms/step - loss: 0.6849 - accuracy: 0.5406\n",
            "Epoch 33/50\n",
            "300/300 [==============================] - 0s 1ms/step - loss: 0.6862 - accuracy: 0.5515\n",
            "Epoch 34/50\n",
            "300/300 [==============================] - 0s 1ms/step - loss: 0.6825 - accuracy: 0.5463\n",
            "Epoch 35/50\n",
            "300/300 [==============================] - 0s 1ms/step - loss: 0.6800 - accuracy: 0.5646\n",
            "Epoch 36/50\n",
            "300/300 [==============================] - 0s 1ms/step - loss: 0.6867 - accuracy: 0.5333\n",
            "Epoch 37/50\n",
            "300/300 [==============================] - 0s 1ms/step - loss: 0.6822 - accuracy: 0.5558\n",
            "Epoch 38/50\n",
            "300/300 [==============================] - 0s 1ms/step - loss: 0.6874 - accuracy: 0.5327\n",
            "Epoch 39/50\n",
            "300/300 [==============================] - 0s 1ms/step - loss: 0.6775 - accuracy: 0.5762\n",
            "Epoch 40/50\n",
            "300/300 [==============================] - 0s 1ms/step - loss: 0.6793 - accuracy: 0.5678\n",
            "Epoch 41/50\n",
            "300/300 [==============================] - 0s 1ms/step - loss: 0.6780 - accuracy: 0.5701\n",
            "Epoch 42/50\n",
            "300/300 [==============================] - 0s 1ms/step - loss: 0.6825 - accuracy: 0.5419\n",
            "Epoch 43/50\n",
            "300/300 [==============================] - 0s 1ms/step - loss: 0.6886 - accuracy: 0.5360\n",
            "Epoch 44/50\n",
            "300/300 [==============================] - 0s 1ms/step - loss: 0.6836 - accuracy: 0.5420\n",
            "Epoch 45/50\n",
            "300/300 [==============================] - 0s 1ms/step - loss: 0.6823 - accuracy: 0.5399\n",
            "Epoch 46/50\n",
            "300/300 [==============================] - 0s 1ms/step - loss: 0.6833 - accuracy: 0.5574\n",
            "Epoch 47/50\n",
            "300/300 [==============================] - 0s 1ms/step - loss: 0.6829 - accuracy: 0.5548\n",
            "Epoch 48/50\n",
            "300/300 [==============================] - 0s 1ms/step - loss: 0.6845 - accuracy: 0.5588\n",
            "Epoch 49/50\n",
            "300/300 [==============================] - 0s 1ms/step - loss: 0.6790 - accuracy: 0.5592\n",
            "Epoch 50/50\n",
            "300/300 [==============================] - 0s 1ms/step - loss: 0.6808 - accuracy: 0.5696\n",
            "172/172 [==============================] - 0s 837us/step - loss: 0.6910 - accuracy: 0.4931\n",
            "['loss', 'accuracy']\n",
            "[0.6910253167152405, 0.4930908977985382]\n"
          ],
          "name": "stdout"
        }
      ]
    },
    {
      "cell_type": "code",
      "metadata": {
        "colab": {
          "base_uri": "https://localhost:8080/",
          "height": 591
        },
        "id": "0h4i9bzkrYjK",
        "outputId": "db0841aa-1745-485e-afd0-47285908aec0"
      },
      "source": [
        "print(mymodel.history.keys())\n",
        "# summarize history for accuracy\n",
        "plt.plot(mymodel.history['accuracy'])\n",
        "# plt.plot(mymodel.history['val_accuracy'])\n",
        "plt.title('model accuracy for ANN')\n",
        "plt.ylabel('accuracy')\n",
        "plt.xlabel('epoch')\n",
        "plt.savefig('ann_accu')\n",
        "# plt.legend(['train', 'test'], loc='upper left')\n",
        "plt.show()\n",
        " #summarize history for loss\n",
        "plt.plot(mymodel.history['loss'])\n",
        "# plt.plot(mymodel.history['val_loss'])\n",
        "plt.title('model loss for ANN')\n",
        "plt.ylabel('loss')\n",
        "plt.xlabel('epoch')\n",
        "plt.savefig('ann_loss')\n",
        "# plt.legend(['train', 'test'], loc='upper left')\n",
        "plt.show()"
      ],
      "execution_count": 56,
      "outputs": [
        {
          "output_type": "stream",
          "text": [
            "dict_keys(['loss', 'accuracy'])\n"
          ],
          "name": "stdout"
        },
        {
          "output_type": "display_data",
          "data": {
            "image/png": "[encoded data removed]",
            "text/plain": [
              "<Figure size 432x288 with 1 Axes>"
            ]
          },
          "metadata": {
            "tags": [],
            "needs_background": "light"
          }
        },
        {
          "output_type": "display_data",
          "data": {
            "image/png": "[encoded data removed]",
            "text/plain": [
              "<Figure size 432x288 with 1 Axes>"
            ]
          },
          "metadata": {
            "tags": [],
            "needs_background": "light"
          }
        }
      ]
    },
    {
      "cell_type": "code",
      "metadata": {
        "colab": {
          "base_uri": "https://localhost:8080/",
          "height": 1000
        },
        "id": "OxgVHYjPtJ2k",
        "outputId": "04919d0f-4a32-42d3-938b-45cdedb499d1"
      },
      "source": [
        "pd_FM = {}\n",
        "idx=0\n",
        "X_FM_lb=[]\n",
        "for snr in range(-5, 50, 1):\n",
        "  X_FM_lb.append(X[idx:idx+100])\n",
        "  idx=idx+100\n",
        "\n",
        "#print(X_FM_lb)\n",
        "\n",
        "\n",
        "for snr in range(-5, 50, 1):\n",
        "  y_snr = np.ones((X_FM_lb[snr+5].shape[0], 1))\n",
        "  scores = model.evaluate(X_FM_lb[snr+5], y_snr)\n",
        "  # print(scores)\n",
        "  print(\"At SNR = \" + str(snr) + \"\\n%s: %.2f%%\" % (model.metrics_names[1], scores[1]*100))\n",
        "  pd_FM[snr] =(1- scores[1])/2\n",
        "  \n",
        "plt.plot(range(-5, 50, 1), list(pd_FM.values()))\n",
        "\n",
        "# printing the graph\n",
        "plt.yscale('log')\n",
        "plt.xlabel('SNR Range')\n",
        "plt.ylabel('BER')\n",
        "plt.grid()\n",
        "plt.savefig('ann_orig')\n",
        "plt.legend(loc='upper right',ncol = 1)\n",
        "plt.savefig('snip')\n",
        "plt.show()"
      ],
      "execution_count": 57,
      "outputs": [
        {
          "output_type": "stream",
          "text": [
            "4/4 [==============================] - 0s 2ms/step - loss: 0.9275 - accuracy: 0.0400\n",
            "At SNR = -5\n",
            "accuracy: 4.00%\n",
            "4/4 [==============================] - 0s 3ms/step - loss: 0.9161 - accuracy: 0.0800\n",
            "At SNR = -4\n",
            "accuracy: 8.00%\n",
            "4/4 [==============================] - 0s 3ms/step - loss: 0.9019 - accuracy: 0.1300\n",
            "At SNR = -3\n",
            "accuracy: 13.00%\n",
            "4/4 [==============================] - 0s 3ms/step - loss: 0.8991 - accuracy: 0.1400\n",
            "At SNR = -2\n",
            "accuracy: 14.00%\n",
            "4/4 [==============================] - 0s 3ms/step - loss: 0.9104 - accuracy: 0.1000\n",
            "At SNR = -1\n",
            "accuracy: 10.00%\n",
            "4/4 [==============================] - 0s 3ms/step - loss: 0.8877 - accuracy: 0.1800\n",
            "At SNR = 0\n",
            "accuracy: 18.00%\n",
            "4/4 [==============================] - 0s 2ms/step - loss: 0.8650 - accuracy: 0.2600\n",
            "At SNR = 1\n",
            "accuracy: 26.00%\n",
            "4/4 [==============================] - 0s 3ms/step - loss: 0.8565 - accuracy: 0.2900\n",
            "At SNR = 2\n",
            "accuracy: 29.00%\n",
            "4/4 [==============================] - 0s 3ms/step - loss: 0.8366 - accuracy: 0.3600\n",
            "At SNR = 3\n",
            "accuracy: 36.00%\n",
            "4/4 [==============================] - 0s 3ms/step - loss: 0.8395 - accuracy: 0.3500\n",
            "At SNR = 4\n",
            "accuracy: 35.00%\n",
            "4/4 [==============================] - 0s 3ms/step - loss: 0.7912 - accuracy: 0.5200\n",
            "At SNR = 5\n",
            "accuracy: 52.00%\n",
            "4/4 [==============================] - 0s 3ms/step - loss: 0.7912 - accuracy: 0.5200\n",
            "At SNR = 6\n",
            "accuracy: 52.00%\n",
            "4/4 [==============================] - 0s 3ms/step - loss: 0.7629 - accuracy: 0.6200\n",
            "At SNR = 7\n",
            "accuracy: 62.00%\n",
            "4/4 [==============================] - 0s 2ms/step - loss: 0.7345 - accuracy: 0.7200\n",
            "At SNR = 8\n",
            "accuracy: 72.00%\n",
            "4/4 [==============================] - 0s 2ms/step - loss: 0.7089 - accuracy: 0.8100\n",
            "At SNR = 9\n",
            "accuracy: 81.00%\n",
            "4/4 [==============================] - 0s 2ms/step - loss: 0.7118 - accuracy: 0.8000\n",
            "At SNR = 10\n",
            "accuracy: 80.00%\n",
            "4/4 [==============================] - 0s 4ms/step - loss: 0.6777 - accuracy: 0.9200\n",
            "At SNR = 11\n",
            "accuracy: 92.00%\n",
            "4/4 [==============================] - 0s 4ms/step - loss: 0.6919 - accuracy: 0.8700\n",
            "At SNR = 12\n",
            "accuracy: 87.00%\n",
            "4/4 [==============================] - 0s 3ms/step - loss: 0.6692 - accuracy: 0.9500\n",
            "At SNR = 13\n",
            "accuracy: 95.00%\n",
            "4/4 [==============================] - 0s 3ms/step - loss: 0.6664 - accuracy: 0.9600\n",
            "At SNR = 14\n",
            "accuracy: 96.00%\n",
            "4/4 [==============================] - 0s 3ms/step - loss: 0.6579 - accuracy: 0.9900\n",
            "At SNR = 15\n",
            "accuracy: 99.00%\n",
            "4/4 [==============================] - 0s 3ms/step - loss: 0.6550 - accuracy: 1.0000\n",
            "At SNR = 16\n",
            "accuracy: 100.00%\n",
            "4/4 [==============================] - 0s 3ms/step - loss: 0.6550 - accuracy: 1.0000\n",
            "At SNR = 17\n",
            "accuracy: 100.00%\n",
            "4/4 [==============================] - 0s 3ms/step - loss: 0.6550 - accuracy: 1.0000\n",
            "At SNR = 18\n",
            "accuracy: 100.00%\n",
            "4/4 [==============================] - 0s 2ms/step - loss: 0.6550 - accuracy: 1.0000\n",
            "At SNR = 19\n",
            "accuracy: 100.00%\n",
            "4/4 [==============================] - 0s 3ms/step - loss: 0.6550 - accuracy: 1.0000\n",
            "At SNR = 20\n",
            "accuracy: 100.00%\n",
            "4/4 [==============================] - 0s 3ms/step - loss: 0.6550 - accuracy: 1.0000\n",
            "At SNR = 21\n",
            "accuracy: 100.00%\n",
            "4/4 [==============================] - 0s 2ms/step - loss: 0.6550 - accuracy: 1.0000\n",
            "At SNR = 22\n",
            "accuracy: 100.00%\n",
            "4/4 [==============================] - 0s 3ms/step - loss: 0.6550 - accuracy: 1.0000\n",
            "At SNR = 23\n",
            "accuracy: 100.00%\n",
            "4/4 [==============================] - 0s 2ms/step - loss: 0.6550 - accuracy: 1.0000\n",
            "At SNR = 24\n",
            "accuracy: 100.00%\n",
            "4/4 [==============================] - 0s 3ms/step - loss: 0.6550 - accuracy: 1.0000\n",
            "At SNR = 25\n",
            "accuracy: 100.00%\n",
            "4/4 [==============================] - 0s 3ms/step - loss: 0.6550 - accuracy: 1.0000\n",
            "At SNR = 26\n",
            "accuracy: 100.00%\n",
            "4/4 [==============================] - 0s 3ms/step - loss: 0.6550 - accuracy: 1.0000\n",
            "At SNR = 27\n",
            "accuracy: 100.00%\n",
            "4/4 [==============================] - 0s 3ms/step - loss: 0.6550 - accuracy: 1.0000\n",
            "At SNR = 28\n",
            "accuracy: 100.00%\n",
            "4/4 [==============================] - 0s 3ms/step - loss: 0.6550 - accuracy: 1.0000\n",
            "At SNR = 29\n",
            "accuracy: 100.00%\n",
            "4/4 [==============================] - 0s 3ms/step - loss: 0.6550 - accuracy: 1.0000\n",
            "At SNR = 30\n",
            "accuracy: 100.00%\n",
            "4/4 [==============================] - 0s 3ms/step - loss: 0.6550 - accuracy: 1.0000\n",
            "At SNR = 31\n",
            "accuracy: 100.00%\n",
            "4/4 [==============================] - 0s 3ms/step - loss: 0.6550 - accuracy: 1.0000\n",
            "At SNR = 32\n",
            "accuracy: 100.00%\n",
            "4/4 [==============================] - 0s 4ms/step - loss: 0.6550 - accuracy: 1.0000\n",
            "At SNR = 33\n",
            "accuracy: 100.00%\n",
            "4/4 [==============================] - 0s 3ms/step - loss: 0.6550 - accuracy: 1.0000\n",
            "At SNR = 34\n",
            "accuracy: 100.00%\n",
            "4/4 [==============================] - 0s 3ms/step - loss: 0.6550 - accuracy: 1.0000\n",
            "At SNR = 35\n",
            "accuracy: 100.00%\n",
            "4/4 [==============================] - 0s 2ms/step - loss: 0.6550 - accuracy: 1.0000\n",
            "At SNR = 36\n",
            "accuracy: 100.00%\n",
            "4/4 [==============================] - 0s 3ms/step - loss: 0.6550 - accuracy: 1.0000\n",
            "At SNR = 37\n",
            "accuracy: 100.00%\n",
            "4/4 [==============================] - 0s 3ms/step - loss: 0.6550 - accuracy: 1.0000\n",
            "At SNR = 38\n",
            "accuracy: 100.00%\n",
            "4/4 [==============================] - 0s 2ms/step - loss: 0.6550 - accuracy: 1.0000\n",
            "At SNR = 39\n",
            "accuracy: 100.00%\n",
            "4/4 [==============================] - 0s 2ms/step - loss: 0.6550 - accuracy: 1.0000\n",
            "At SNR = 40\n",
            "accuracy: 100.00%\n",
            "4/4 [==============================] - 0s 2ms/step - loss: 0.6550 - accuracy: 1.0000\n",
            "At SNR = 41\n",
            "accuracy: 100.00%\n",
            "4/4 [==============================] - 0s 3ms/step - loss: 0.6550 - accuracy: 1.0000\n",
            "At SNR = 42\n",
            "accuracy: 100.00%\n",
            "4/4 [==============================] - 0s 2ms/step - loss: 0.6550 - accuracy: 1.0000\n",
            "At SNR = 43\n",
            "accuracy: 100.00%\n",
            "4/4 [==============================] - 0s 3ms/step - loss: 0.6550 - accuracy: 1.0000\n",
            "At SNR = 44\n",
            "accuracy: 100.00%\n",
            "4/4 [==============================] - 0s 3ms/step - loss: 0.6550 - accuracy: 1.0000\n",
            "At SNR = 45\n",
            "accuracy: 100.00%\n",
            "4/4 [==============================] - 0s 3ms/step - loss: 0.6550 - accuracy: 1.0000\n",
            "At SNR = 46\n",
            "accuracy: 100.00%\n",
            "4/4 [==============================] - 0s 3ms/step - loss: 0.6550 - accuracy: 1.0000\n",
            "At SNR = 47\n",
            "accuracy: 100.00%\n",
            "4/4 [==============================] - 0s 3ms/step - loss: 0.6550 - accuracy: 1.0000\n",
            "At SNR = 48\n",
            "accuracy: 100.00%\n",
            "4/4 [==============================] - 0s 2ms/step - loss: 0.6550 - accuracy: 1.0000\n",
            "At SNR = 49\n",
            "accuracy: 100.00%\n"
          ],
          "name": "stdout"
        },
        {
          "output_type": "stream",
          "text": [
            "No handles with labels found to put in legend.\n"
          ],
          "name": "stderr"
        },
        {
          "output_type": "display_data",
          "data": {
            "image/png": "[encoded data removed]",
            "text/plain": [
              "<Figure size 432x288 with 1 Axes>"
            ]
          },
          "metadata": {
            "tags": [],
            "needs_background": "light"
          }
        }
      ]
    },
    {
      "cell_type": "code",
      "metadata": {
        "id": "eNlrVLRr3reF"
      },
      "source": [
        ""
      ],
      "execution_count": 58,
      "outputs": []
    }
  ]
}